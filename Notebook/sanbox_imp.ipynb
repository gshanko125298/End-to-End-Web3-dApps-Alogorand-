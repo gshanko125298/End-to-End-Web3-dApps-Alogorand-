{
 "cells": [
  {
   "cell_type": "code",
   "execution_count": 1,
   "metadata": {},
   "outputs": [
    {
     "name": "stdout",
     "output_type": "stream",
     "text": [
      "My address: JLJDDDIS7VGOLD5O3HB7CWNIQEKVY2C7D5FGN4MTEGCD3NCL3SCIGBHJQM\n",
      "My private key: tbRFd3Aagk3/xRUey+rWCIG1TpsYViGwChp4A8R2xxpK0jGNEv1M5Y+u2cPxWaiBFVxoXx9KZvGTIYQ9tEvchA==\n",
      "My passphrase: note bitter desert poem aerobic square copper beyond glow private hidden awesome help squirrel shadow figure aerobic client artist daring marine tank stomach abandon inherit\n"
     ]
    }
   ],
   "source": [
    "from algosdk import account, mnemonic\n",
    "\n",
    "private_key, address = account.generate_account()\n",
    "print(\"My address: {}\".format(address))\n",
    "print(\"My private key: {}\".format(private_key))\n",
    "print(\"My passphrase: {}\".format(mnemonic.from_private_key(private_key)))"
   ]
  },
  {
   "cell_type": "code",
   "execution_count": 2,
   "metadata": {},
   "outputs": [
    {
     "name": "stdout",
     "output_type": "stream",
     "text": [
      "Private key from mnemonic: LrEKSP07AqKxf5G4N1CBBZsc6IBNrzaW7GEw4yGZ+0jwR3oUFNy9rTb0AaYEbrbPUTNyzfRLUH8GXyH+oJzJZw==\n",
      "Public key from mnemonic: 6BDXUFAU3S622NXUAGTAI3VWZ5ITG4WN6RFVA7YGL4Q75IE4ZFT6GJWZOI\n"
     ]
    }
   ],
   "source": [
    "print(f\"Private key from mnemonic: {mnemonic.to_private_key('chair client piano save afford hammer work multiply warfare dolphin scheme raccoon decrease deliver hire quantum short rather couch credit duck town elephant able invite')}\")\n",
    "print(f\"Public key from mnemonic: {mnemonic.to_public_key('chair client piano save afford hammer work multiply warfare dolphin scheme raccoon decrease deliver hire quantum short rather couch credit duck town elephant able invite')}\")"
   ]
  },
  {
   "cell_type": "code",
   "execution_count": 3,
   "metadata": {},
   "outputs": [
    {
     "ename": "NameError",
     "evalue": "name 'algod_client' is not defined",
     "output_type": "error",
     "traceback": [
      "\u001b[1;31m---------------------------------------------------------------------------\u001b[0m",
      "\u001b[1;31mNameError\u001b[0m                                 Traceback (most recent call last)",
      "\u001b[1;32mc:\\Users\\Genet Shanko\\End-to-End-Web3-dApps-Alogorand-\\Notebook\\sanbox_imp.ipynb Cell 3\u001b[0m in \u001b[0;36m<cell line: 1>\u001b[1;34m()\u001b[0m\n\u001b[1;32m----> <a href='vscode-notebook-cell:/c%3A/Users/Genet%20Shanko/End-to-End-Web3-dApps-Alogorand-/Notebook/sanbox_imp.ipynb#W2sZmlsZQ%3D%3D?line=0'>1</a>\u001b[0m account_info \u001b[39m=\u001b[39m algod_client\u001b[39m.\u001b[39maccount_info(address)\n\u001b[0;32m      <a href='vscode-notebook-cell:/c%3A/Users/Genet%20Shanko/End-to-End-Web3-dApps-Alogorand-/Notebook/sanbox_imp.ipynb#W2sZmlsZQ%3D%3D?line=1'>2</a>\u001b[0m \u001b[39mprint\u001b[39m(\u001b[39m\"\u001b[39m\u001b[39mAccount balance: \u001b[39m\u001b[39m{}\u001b[39;00m\u001b[39m microAlgos\u001b[39m\u001b[39m\"\u001b[39m\u001b[39m.\u001b[39mformat(account_info\u001b[39m.\u001b[39mget(\u001b[39m'\u001b[39m\u001b[39mamount\u001b[39m\u001b[39m'\u001b[39m)) \u001b[39m+\u001b[39m \u001b[39m\"\u001b[39m\u001b[39m\\n\u001b[39;00m\u001b[39m\"\u001b[39m)\n",
      "\u001b[1;31mNameError\u001b[0m: name 'algod_client' is not defined"
     ]
    }
   ],
   "source": [
    "account_info = algod_client.account_info(address)\n",
    "print(\"Account balance: {} microAlgos\".format(account_info.get('amount')) + \"\\n\")"
   ]
  }
 ],
 "metadata": {
  "kernelspec": {
   "display_name": "Python 3.9.12 ('base')",
   "language": "python",
   "name": "python3"
  },
  "language_info": {
   "codemirror_mode": {
    "name": "ipython",
    "version": 3
   },
   "file_extension": ".py",
   "mimetype": "text/x-python",
   "name": "python",
   "nbconvert_exporter": "python",
   "pygments_lexer": "ipython3",
   "version": "3.9.12"
  },
  "orig_nbformat": 4,
  "vscode": {
   "interpreter": {
    "hash": "49e75e616ed6073258151907648fcc993a31e638f2bf489b501544365e6d60a2"
   }
  }
 },
 "nbformat": 4,
 "nbformat_minor": 2
}
