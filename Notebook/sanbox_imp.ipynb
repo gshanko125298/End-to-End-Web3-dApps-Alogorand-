{
 "cells": [
  {
   "cell_type": "code",
   "execution_count": 1,
   "metadata": {},
   "outputs": [
    {
     "name": "stdout",
     "output_type": "stream",
     "text": [
      "My address: 6BDXUFAU3S622NXUAGTAI3VWZ5ITG4WN6RFVA7YGL4Q75IE4ZFT6GJWZOI\n",
      "My private key: LrEKSP07AqKxf5G4N1CBBZsc6IBNrzaW7GEw4yGZ+0jwR3oUFNy9rTb0AaYEbrbPUTNyzfRLUH8GXyH+oJzJZw==\n",
      "My passphrase: chair client piano save afford hammer work multiply warfare dolphin scheme raccoon decrease deliver hire quantum short rather couch credit duck town elephant able invite\n"
     ]
    }
   ],
   "source": [
    "from algosdk import account, mnemonic\n",
    "\n",
    "private_key, address = account.generate_account()\n",
    "print(\"My address: {}\".format(address))\n",
    "print(\"My private key: {}\".format(private_key))\n",
    "print(\"My passphrase: {}\".format(mnemonic.from_private_key(private_key)))"
   ]
  },
  {
   "cell_type": "code",
   "execution_count": 2,
   "metadata": {},
   "outputs": [
    {
     "name": "stdout",
     "output_type": "stream",
     "text": [
      "Private key from mnemonic: LrEKSP07AqKxf5G4N1CBBZsc6IBNrzaW7GEw4yGZ+0jwR3oUFNy9rTb0AaYEbrbPUTNyzfRLUH8GXyH+oJzJZw==\n",
      "Public key from mnemonic: 6BDXUFAU3S622NXUAGTAI3VWZ5ITG4WN6RFVA7YGL4Q75IE4ZFT6GJWZOI\n"
     ]
    }
   ],
   "source": [
    "print(f\"Private key from mnemonic: {mnemonic.to_private_key('chair client piano save afford hammer work multiply warfare dolphin scheme raccoon decrease deliver hire quantum short rather couch credit duck town elephant able invite')}\")\n",
    "print(f\"Public key from mnemonic: {mnemonic.to_public_key('chair client piano save afford hammer work multiply warfare dolphin scheme raccoon decrease deliver hire quantum short rather couch credit duck town elephant able invite')}\")"
   ]
  },
  {
   "cell_type": "code",
   "execution_count": 9,
   "metadata": {},
   "outputs": [
    {
     "name": "stdout",
     "output_type": "stream",
     "text": [
      "Account balance: 0 microAlgos\n",
      "\n"
     ]
    }
   ],
   "source": [
    "account_info = algod_client.account_info(address)\n",
    "print(\"Account balance: {} microAlgos\".format(account_info.get('amount')) + \"\\n\")"
   ]
  },
  {
   "cell_type": "code",
   "execution_count": 3,
   "metadata": {},
   "outputs": [],
   "source": [
    "mnemo_2 = 'trigger attitude visit spy hotel render whip escape total present trend rifle turkey gun priority cabin behave skull leader monitor can song cupboard abandon spirit'\n",
    "priv_2 = mnemonic.to_private_key(mnemo_2)\n",
    "pub_2 = mnemonic.to_public_key(mnemo_2)"
   ]
  },
  {
   "cell_type": "code",
   "execution_count": 5,
   "metadata": {},
   "outputs": [
    {
     "data": {
      "text/plain": [
       "'XHS6FZUPCKJMWNW3GKY3JR3BLG3VYR5KWERMXTRIZPJOPHRGYH4FZWGEVU'"
      ]
     },
     "execution_count": 5,
     "metadata": {},
     "output_type": "execute_result"
    }
   ],
   "source": [
    "pub_2"
   ]
  },
  {
   "cell_type": "code",
   "execution_count": 7,
   "metadata": {},
   "outputs": [],
   "source": [
    "from algosdk.v2client import algod\n",
    "\n",
    "algod_address = \"http://localhost:4001\"\n",
    "algod_token = \"aaaaaaaaaaaaaaaaaaaaaaaaaaaaaaaaaaaaaaaaaaaaaaaaaaaaaaaaaaaaaaaa\"\n",
    "algod_client = algod.AlgodClient(algod_token, algod_address)"
   ]
  },
  {
   "cell_type": "code",
   "execution_count": 8,
   "metadata": {},
   "outputs": [
    {
     "name": "stdout",
     "output_type": "stream",
     "text": [
      "Account balance: 4000000000000000 microAlgos\n",
      "\n"
     ]
    }
   ],
   "source": [
    "account_info = algod_client.account_info(pub_2)\n",
    "print(\"Account balance: {} microAlgos\".format(account_info.get('amount')) + \"\\n\")"
   ]
  },
  {
   "cell_type": "code",
   "execution_count": 10,
   "metadata": {},
   "outputs": [],
   "source": [
    "# build transaction\n",
    "from algosdk.future import transaction\n",
    "from algosdk import constants\n",
    "\n",
    "\n",
    "params = algod_client.suggested_params()\n",
    "# comment out the next two (2) lines to use suggested fees\n",
    "params.flat_fee = True\n",
    "params.fee = constants.MIN_TXN_FEE \n",
    "receiver = address\n",
    "note = \"Hello World\".encode()\n",
    "amount = 1000000\n",
    "unsigned_txn = transaction.PaymentTxn(pub_2, params, receiver, amount, None, note)"
   ]
  },
  {
   "cell_type": "code",
   "execution_count": 15,
   "metadata": {},
   "outputs": [],
   "source": [
    "# sign transaction\n",
    "signed_txn = unsigned_txn.sign(priv_2)"
   ]
  },
  {
   "cell_type": "code",
   "execution_count": 16,
   "metadata": {},
   "outputs": [],
   "source": [
    "txid = algod_client.send_transaction(signed_txn)"
   ]
  },
  {
   "cell_type": "code",
   "execution_count": 17,
   "metadata": {},
   "outputs": [
    {
     "name": "stdout",
     "output_type": "stream",
     "text": [
      "Successfully sent transaction with txID: A7X5TPG5MULKUPLX55EHCNVVI7NNV6PPBHY6ZFETAO6UJH6F544Q\n",
      "Transaction information: {\n",
      "    \"confirmed-round\": 4,\n",
      "    \"pool-error\": \"\",\n",
      "    \"txn\": {\n",
      "        \"sig\": \"HQo/0sbI5Zdo1V1PXT5ZlmCtA0yCUIzvOJaJs/xH43YZXUTXTS1K0D5pxFiFFeFrxDLJlVYAR12/XW7ynQM6Bg==\",\n",
      "        \"txn\": {\n",
      "            \"amt\": 1000000,\n",
      "            \"fee\": 1000,\n",
      "            \"fv\": 3,\n",
      "            \"gen\": \"sandnet-v1\",\n",
      "            \"gh\": \"MkJu7CKaJnGZweTJ2wmXa6Z0M5h98mXTmvvgE26qO2s=\",\n",
      "            \"lv\": 1003,\n",
      "            \"note\": \"SGVsbG8gV29ybGQ=\",\n",
      "            \"rcv\": \"6BDXUFAU3S622NXUAGTAI3VWZ5ITG4WN6RFVA7YGL4Q75IE4ZFT6GJWZOI\",\n",
      "            \"snd\": \"XHS6FZUPCKJMWNW3GKY3JR3BLG3VYR5KWERMXTRIZPJOPHRGYH4FZWGEVU\",\n",
      "            \"type\": \"pay\"\n",
      "        }\n",
      "    }\n",
      "}\n",
      "Decoded note: Hello World\n",
      "Starting Account balance: 0 microAlgos\n",
      "Amount transfered: 1000000 microAlgos\n",
      "Fee: 1000 microAlgos\n",
      "Final Account balance: 3999999998999000 microAlgos\n",
      "\n"
     ]
    }
   ],
   "source": [
    "import json\n",
    "import base64\n",
    "\n",
    "\n",
    "#submit transaction\n",
    "\n",
    "print(\"Successfully sent transaction with txID: {}\".format(txid))\n",
    "\n",
    "# wait for confirmation \n",
    "try:\n",
    "    confirmed_txn = transaction.wait_for_confirmation(algod_client, txid, 4)  \n",
    "except Exception as err:\n",
    "    print(err)\n",
    "    # return\n",
    "\n",
    "print(\"Transaction information: {}\".format(\n",
    "    json.dumps(confirmed_txn, indent=4)))\n",
    "print(\"Decoded note: {}\".format(base64.b64decode(\n",
    "    confirmed_txn[\"txn\"][\"txn\"][\"note\"]).decode()))\n",
    "print(\"Starting Account balance: {} microAlgos\".format(account_info.get('amount')) )\n",
    "print(\"Amount transfered: {} microAlgos\".format(amount) )    \n",
    "print(\"Fee: {} microAlgos\".format(params.fee) ) \n",
    "\n",
    "\n",
    "account_info = algod_client.account_info(pub_2)\n",
    "print(\"Final Account balance: {} microAlgos\".format(account_info.get('amount')) + \"\\n\")"
   ]
  },
  {
   "cell_type": "code",
   "execution_count": 18,
   "metadata": {},
   "outputs": [
    {
     "name": "stdout",
     "output_type": "stream",
     "text": [
      "Account balance: 1000000 microAlgos\n",
      "\n"
     ]
    }
   ],
   "source": [
    "account_info = algod_client.account_info(address)\n",
    "print(\"Account balance: {} microAlgos\".format(account_info.get('amount')) + \"\\n\")"
   ]
  },
  {
   "cell_type": "code",
   "execution_count": 20,
   "metadata": {},
   "outputs": [],
   "source": [
    "from algosdk.future.transaction import AssetConfigTxn, AssetTransferTxn, AssetFreezeTxn, wait_for_confirmation"
   ]
  },
  {
   "cell_type": "code",
   "execution_count": 21,
   "metadata": {},
   "outputs": [
    {
     "name": "stdout",
     "output_type": "stream",
     "text": [
      "Signed transaction with txID: SJCC7BJFLOQHH4PVTV7TYZXQB5BLYZ6FS2AYYS7LHPMDKICJI5HA\n",
      "TXID:  SJCC7BJFLOQHH4PVTV7TYZXQB5BLYZ6FS2AYYS7LHPMDKICJI5HA\n",
      "Result confirmed in round: 5\n",
      "Transaction information: {\n",
      "    \"asset-index\": 5,\n",
      "    \"confirmed-round\": 5,\n",
      "    \"pool-error\": \"\",\n",
      "    \"txn\": {\n",
      "        \"sig\": \"FAUGxFBUJQH6mLMUJNXpcMNopQ9gmlxpKE90JtLSAbaokhizXm9IbXp3RHNi1IcmMC338VQKQ1vilWpupwGQBQ==\",\n",
      "        \"txn\": {\n",
      "            \"apar\": {\n",
      "                \"an\": \"latinum\",\n",
      "                \"au\": \"https://path/to/my/asset/details\",\n",
      "                \"c\": \"XHS6FZUPCKJMWNW3GKY3JR3BLG3VYR5KWERMXTRIZPJOPHRGYH4FZWGEVU\",\n",
      "                \"f\": \"XHS6FZUPCKJMWNW3GKY3JR3BLG3VYR5KWERMXTRIZPJOPHRGYH4FZWGEVU\",\n",
      "                \"m\": \"XHS6FZUPCKJMWNW3GKY3JR3BLG3VYR5KWERMXTRIZPJOPHRGYH4FZWGEVU\",\n",
      "                \"r\": \"XHS6FZUPCKJMWNW3GKY3JR3BLG3VYR5KWERMXTRIZPJOPHRGYH4FZWGEVU\",\n",
      "                \"t\": 1000,\n",
      "                \"un\": \"LATINUM\"\n",
      "            },\n",
      "            \"fee\": 1000,\n",
      "            \"fv\": 4,\n",
      "            \"gen\": \"sandnet-v1\",\n",
      "            \"gh\": \"MkJu7CKaJnGZweTJ2wmXa6Z0M5h98mXTmvvgE26qO2s=\",\n",
      "            \"lv\": 1004,\n",
      "            \"snd\": \"XHS6FZUPCKJMWNW3GKY3JR3BLG3VYR5KWERMXTRIZPJOPHRGYH4FZWGEVU\",\n",
      "            \"type\": \"acfg\"\n",
      "        }\n",
      "    }\n",
      "}\n"
     ]
    }
   ],
   "source": [
    "# CREATE ASSET\n",
    "# Get network params for transactions before every transaction.\n",
    "params = algod_client.suggested_params()\n",
    "# comment these two lines if you want to use suggested params\n",
    "# params.fee = 1000\n",
    "# params.flat_fee = True\n",
    "# Account 1 creates an asset called latinum and\n",
    "# sets Account 2 as the manager, reserve, freeze, and clawback address.\n",
    "# Asset Creation transaction\n",
    "txn = AssetConfigTxn(\n",
    "    sender=pub_2,\n",
    "    sp=params,\n",
    "    total=1,\n",
    "    default_frozen=False,\n",
    "    unit_name=\"LATINUM\",\n",
    "    asset_name=\"latinum\",\n",
    "    manager=pub_2,\n",
    "    reserve=pub_2,\n",
    "    freeze=pub_2,\n",
    "    clawback=pub_2,\n",
    "    url=\"https://path/to/my/asset/details\", \n",
    "    decimals=0)\n",
    "# Sign with secret key of creator\n",
    "stxn = txn.sign(priv_2)\n",
    "# Send the transaction to the network and retrieve the txid.\n",
    "try:\n",
    "    txid = algod_client.send_transaction(stxn)\n",
    "    print(\"Signed transaction with txID: {}\".format(txid))\n",
    "    # Wait for the transaction to be confirmed\n",
    "    confirmed_txn = wait_for_confirmation(algod_client, txid, 4)  \n",
    "    print(\"TXID: \", txid)\n",
    "    print(\"Result confirmed in round: {}\".format(confirmed_txn['confirmed-round']))   \n",
    "except Exception as err:\n",
    "    print(err)\n",
    "# Retrieve the asset ID of the newly created asset by first\n",
    "# ensuring that the creation transaction was confirmed,\n",
    "# then grabbing the asset id from the transaction.\n",
    "print(\"Transaction information: {}\".format(\n",
    "    json.dumps(confirmed_txn, indent=4)))\n",
    "# print(\"Decoded note: {}\".format(base64.b64decode(\n",
    "#     confirmed_txn[\"txn\"][\"txn\"][\"note\"]).decode()))\n"
   ]
  },
  {
   "cell_type": "code",
   "execution_count": null,
   "metadata": {},
   "outputs": [],
   "source": []
  }
 ],
 "metadata": {
  "kernelspec": {
   "display_name": "Python 3.9.7 ('venv': venv)",
   "language": "python",
   "name": "python3"
  },
  "language_info": {
   "codemirror_mode": {
    "name": "ipython",
    "version": 3
   },
   "file_extension": ".py",
   "mimetype": "text/x-python",
   "name": "python",
   "nbconvert_exporter": "python",
   "pygments_lexer": "ipython3",
   "version": "3.9.7"
  },
  "orig_nbformat": 4,
  "vscode": {
   "interpreter": {
    "hash": "fa2589e48567a8e9abb73dc6ff8afb2f6977cdac113b0ac7220db3e484be04bd"
   }
  }
 },
 "nbformat": 4,
 "nbformat_minor": 2
}
